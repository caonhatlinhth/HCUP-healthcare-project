{
 "cells": [
  {
   "cell_type": "markdown",
   "metadata": {
    "id": "v5mfu_PIDVN9"
   },
   "source": [
    "# KModes Clustering Analysis"
   ]
  },
  {
   "cell_type": "code",
   "execution_count": null,
   "metadata": {
    "id": "Bw-mfua4DIpY"
   },
   "outputs": [],
   "source": [
    "from google.colab import auth\n",
    "from google.cloud import bigquery\n",
    "from google.colab import data_table\n",
    "\n",
    "project = 'capstone-400517' # Project ID inserted based on the query results selected to explore\n",
    "location = 'US' # Location inserted based on the query results selected to explore\n",
    "client = bigquery.Client(project=project, location=location)\n",
    "data_table.enable_dataframe_formatter()\n",
    "auth.authenticate_user()"
   ]
  },
  {
   "cell_type": "markdown",
   "metadata": {
    "id": "pj42soltXW_H"
   },
   "source": [
    "## Reference SQL syntax from the original job\n",
    "Use the ```jobs.query```\n",
    "[method](https://cloud.google.com/bigquery/docs/reference/rest/v2/jobs/query) to\n",
    "return the SQL syntax from the job. This can be copied from the output cell\n",
    "below to edit the query now or in the future. Alternatively, you can use\n",
    "[this link](https://console.cloud.google.com/bigquery?j=capstone-400517:US:bquxjob_bfbd722_18b725d9f3e)\n",
    "back to BigQuery to edit the query within the BigQuery user interface."
   ]
  },
  {
   "cell_type": "code",
   "execution_count": null,
   "metadata": {
    "id": "iYbHh5cz6g3B"
   },
   "outputs": [],
   "source": [
    "## Query to get LOS AND TOTAL CHARGE FOR PATIENTS WITH ASTHMA AND OTHER DISEASES\n",
    "\n",
    "query = \"\"\"\n",
    "\n",
    "SELECT fc.*, kg.DXCCSR_Default_DX1\n",
    "FROM `capstone-400517.capstone2.for_clustering` AS fc\n",
    "LEFT JOIN `capstone-400517.capstone2.kid_GPRS` AS kg\n",
    "ON fc.recnum = kg.recnum\n",
    "\n",
    "\"\"\"\n"
   ]
  },
  {
   "cell_type": "code",
   "execution_count": null,
   "metadata": {
    "colab": {
     "base_uri": "https://localhost:8080/"
    },
    "id": "KxSqPfAeXW_K",
    "outputId": "6dee40dc-0a3a-490b-9d6a-3b3260762141"
   },
   "outputs": [
    {
     "name": "stdout",
     "output_type": "stream",
     "text": [
      "\n",
      "\n",
      "SELECT fc.*, kg.DXCCSR_Default_DX1\n",
      "FROM `capstone-400517.capstone2.for_clustering` AS fc\n",
      "LEFT JOIN `capstone-400517.capstone2.kid_GPRS` AS kg\n",
      "ON fc.recnum = kg.recnum\n",
      "\n",
      "\n"
     ]
    }
   ],
   "source": [
    "# Running this code will display the query used to generate your previous job\n",
    "\n",
    "job = client.query(query) # Job ID inserted based on the query results selected to explore\n",
    "print(job.query)"
   ]
  },
  {
   "cell_type": "markdown",
   "metadata": {
    "id": "eY-wNOGO11ON"
   },
   "source": [
    "## Result set loaded from BigQuery job as a DataFrame\n",
    "Query results are referenced from the Job ID ran from BigQuery and the query\n",
    "does not need to be re-run to explore results. The ```to_dataframe```\n",
    "[method](https://googleapis.dev/python/bigquery/latest/generated/google.cloud.bigquery.job.QueryJob.html#google.cloud.bigquery.job.QueryJob.to_dataframe)\n",
    "downloads the results to a Pandas DataFrame by using the BigQuery Storage API.\n",
    "\n",
    "To edit query syntax, you can do so from the BigQuery SQL editor or in the\n",
    "```Optional:``` sections below."
   ]
  },
  {
   "cell_type": "code",
   "execution_count": null,
   "metadata": {
    "id": "bIw82qhuHWy0"
   },
   "outputs": [],
   "source": [
    "# Filtering only for RSP009\n",
    "results = job.to_dataframe()\n",
    "results = results[results['DXCCSR_Default_DX1']== 'RSP009']"
   ]
  },
  {
   "cell_type": "markdown",
   "metadata": {
    "id": "QUq-DtxICFi9"
   },
   "source": [
    "# Creating Clusters with Kmodes clustering algorithm"
   ]
  },
  {
   "cell_type": "code",
   "execution_count": null,
   "metadata": {
    "colab": {
     "base_uri": "https://localhost:8080/"
    },
    "id": "lFR0ud2ZPwDC",
    "outputId": "2538dcee-a831-4083-d5e5-ddc1f6d170d8"
   },
   "outputs": [
    {
     "name": "stdout",
     "output_type": "stream",
     "text": [
      "Collecting kmodes\n",
      "  Downloading kmodes-0.12.2-py2.py3-none-any.whl (20 kB)\n",
      "Requirement already satisfied: numpy>=1.10.4 in /usr/local/lib/python3.10/dist-packages (from kmodes) (1.23.5)\n",
      "Requirement already satisfied: scikit-learn>=0.22.0 in /usr/local/lib/python3.10/dist-packages (from kmodes) (1.2.2)\n",
      "Requirement already satisfied: scipy>=0.13.3 in /usr/local/lib/python3.10/dist-packages (from kmodes) (1.11.3)\n",
      "Requirement already satisfied: joblib>=0.11 in /usr/local/lib/python3.10/dist-packages (from kmodes) (1.3.2)\n",
      "Requirement already satisfied: threadpoolctl>=2.0.0 in /usr/local/lib/python3.10/dist-packages (from scikit-learn>=0.22.0->kmodes) (3.2.0)\n",
      "Installing collected packages: kmodes\n",
      "Successfully installed kmodes-0.12.2\n"
     ]
    }
   ],
   "source": [
    "# Install K-Modes ML library\n",
    "\n",
    "!pip install kmodes"
   ]
  },
  {
   "cell_type": "code",
   "execution_count": null,
   "metadata": {
    "colab": {
     "base_uri": "https://localhost:8080/"
    },
    "id": "qL2CWIa0PNwl",
    "outputId": "0bcd5fbf-4afd-4972-d8b8-536f80837296"
   },
   "outputs": [
    {
     "name": "stderr",
     "output_type": "stream",
     "text": [
      "/usr/local/lib/python3.10/dist-packages/sklearn/preprocessing/_encoders.py:868: FutureWarning: `sparse` was renamed to `sparse_output` in version 1.2 and will be removed in 1.4. `sparse_output` is ignored unless you leave `sparse` to its default value.\n",
      "  warnings.warn(\n"
     ]
    }
   ],
   "source": [
    "# Import necessary libraries from KModes and create clusters\n",
    "\n",
    "\n",
    "from kmodes.kmodes import KModes\n",
    "import pandas as pd\n",
    "from sklearn.preprocessing import OneHotEncoder\n",
    "\n",
    "encoder = OneHotEncoder(sparse=False)\n",
    "df_encoded = encoder.fit_transform(df_kmode)\n",
    "\n",
    "km = KModes(n_clusters=3, init='Huang', n_init=5, verbose=1)\n"
   ]
  },
  {
   "cell_type": "code",
   "execution_count": null,
   "metadata": {
    "colab": {
     "base_uri": "https://localhost:8080/"
    },
    "id": "KVmJ5AtNY_AN",
    "outputId": "d3685e44-6aec-4e9b-c9eb-883f45d34a10"
   },
   "outputs": [
    {
     "data": {
      "text/plain": [
       "array([[1., 0., 0., ..., 0., 0., 0.],\n",
       "       [0., 1., 0., ..., 0., 0., 0.],\n",
       "       [0., 1., 0., ..., 0., 0., 0.],\n",
       "       ...,\n",
       "       [0., 0., 1., ..., 0., 0., 1.],\n",
       "       [0., 0., 1., ..., 0., 0., 0.],\n",
       "       [0., 0., 1., ..., 0., 0., 0.]])"
      ]
     },
     "execution_count": 68,
     "metadata": {},
     "output_type": "execute_result"
    }
   ],
   "source": [
    "#Check of the clusters created in vector format\n",
    "\n",
    "df_encoded"
   ]
  },
  {
   "cell_type": "code",
   "execution_count": null,
   "metadata": {
    "colab": {
     "base_uri": "https://localhost:8080/"
    },
    "id": "ZYitIINiPm-a",
    "outputId": "93491c97-14c9-4227-9a65-c3cffdd9b41f"
   },
   "outputs": [
    {
     "name": "stdout",
     "output_type": "stream",
     "text": [
      "Init: initializing centroids\n",
      "Init: initializing clusters\n",
      "Starting iterations...\n",
      "Run 1, iteration: 1/100, moves: 13545, cost: 267407.0\n",
      "Run 1, iteration: 2/100, moves: 5912, cost: 267407.0\n",
      "Init: initializing centroids\n",
      "Init: initializing clusters\n",
      "Starting iterations...\n",
      "Run 2, iteration: 1/100, moves: 10683, cost: 268708.0\n",
      "Run 2, iteration: 2/100, moves: 2680, cost: 264408.0\n",
      "Run 2, iteration: 3/100, moves: 4272, cost: 264408.0\n",
      "Init: initializing centroids\n",
      "Init: initializing clusters\n",
      "Starting iterations...\n",
      "Run 3, iteration: 1/100, moves: 8342, cost: 277410.0\n",
      "Init: initializing centroids\n",
      "Init: initializing clusters\n",
      "Starting iterations...\n",
      "Run 4, iteration: 1/100, moves: 12081, cost: 265445.0\n",
      "Run 4, iteration: 2/100, moves: 3408, cost: 265445.0\n",
      "Init: initializing centroids\n",
      "Init: initializing clusters\n",
      "Starting iterations...\n",
      "Run 5, iteration: 1/100, moves: 13530, cost: 276501.0\n",
      "Best run was number 2\n"
     ]
    }
   ],
   "source": [
    "# Fit the cluster\n",
    "\n",
    "clusters = km.fit_predict(df_encoded)"
   ]
  },
  {
   "cell_type": "markdown",
   "metadata": {
    "id": "BbpUUtIdCUUk"
   },
   "source": [
    "## Checking optimal cluster numbers"
   ]
  },
  {
   "cell_type": "code",
   "execution_count": null,
   "metadata": {
    "colab": {
     "base_uri": "https://localhost:8080/",
     "height": 472
    },
    "id": "dw4NiNULPteV",
    "outputId": "adaff621-e91e-474d-a6c3-5fdcfe382fff"
   },
   "outputs": [
    {
     "data": {
      "image/png": "[encoded data removed]",
      "text/plain": [
       "<Figure size 640x480 with 1 Axes>"
      ]
     },
     "metadata": {},
     "output_type": "display_data"
    }
   ],
   "source": [
    "# Checking the optimal number of clusters using Elbow method\n",
    "\n",
    "import matplotlib.pyplot as plt\n",
    "from kmodes.kmodes import KModes\n",
    "\n",
    "costs = []\n",
    "for num_clusters in range(1, 10):\n",
    "    km = KModes(n_clusters=num_clusters, init='Huang', n_init=5, verbose=0)\n",
    "    km.fit(df_encoded)\n",
    "    costs.append(km.cost_)\n",
    "\n",
    "plt.plot(range(1, 10), costs, marker='o')\n",
    "plt.xlabel('Number of clusters')\n",
    "plt.ylabel('Cost')\n",
    "plt.title('Elbow Method For Optimal Number of Clusters')\n",
    "plt.show()\n"
   ]
  },
  {
   "cell_type": "code",
   "execution_count": null,
   "metadata": {
    "id": "cKXcR9SRlvOK"
   },
   "outputs": [],
   "source": [
    "# Join the cluster results to the original table\n",
    "\n",
    "df_kmode['Cluster'] = clusters"
   ]
  },
  {
   "cell_type": "code",
   "execution_count": null,
   "metadata": {
    "id": "hJfNBsldOJa_"
   },
   "outputs": [],
   "source": [
    "# Using dataframe df_kmode: save to csv file for future analysis and visualization\n",
    "\n",
    "df_kmode.to_csv('df_kmode_Asthma_primary_3.csv', index=False)\n"
   ]
  },
  {
   "cell_type": "code",
   "execution_count": null,
   "metadata": {
    "colab": {
     "base_uri": "https://localhost:8080/"
    },
    "id": "ejFuOhFI_3vE",
    "outputId": "7a972110-c337-497f-b801-5a15e3e9ff17"
   },
   "outputs": [
    {
     "name": "stdout",
     "output_type": "stream",
     "text": [
      "[NbConvertApp] Converting notebook /content/cluster_KModes_with_Primary_Asthma.ipynb to html\n",
      "[NbConvertApp] Writing 752805 bytes to /content/cluster_KModes_with_Primary_Asthma.html\n"
     ]
    }
   ],
   "source": [
    "! jupyter nbconvert  --to html \"/content/cluster_KModes_with_Primary_Asthma.ipynb\""
   ]
  }
 ],
 "metadata": {
  "colab": {
   "machine_shape": "hm",
   "provenance": []
  },
  "kernelspec": {
   "display_name": "Python 3 (ipykernel)",
   "language": "python",
   "name": "python3"
  },
  "language_info": {
   "codemirror_mode": {
    "name": "ipython",
    "version": 3
   },
   "file_extension": ".py",
   "mimetype": "text/x-python",
   "name": "python",
   "nbconvert_exporter": "python",
   "pygments_lexer": "ipython3",
   "version": "3.9.13"
  }
 },
 "nbformat": 4,
 "nbformat_minor": 1
}
