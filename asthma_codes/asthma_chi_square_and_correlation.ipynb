{
 "cells": [
  {
   "cell_type": "markdown",
   "metadata": {},
   "source": [
    "# Chi-Square and Correlation Analysis\n",
    "The primary focus is using Chi-Square Analysis to determine if there is a significant association between \n",
    "certain socio-demographic variables and the likelihood of individuals having asthma."
   ]
  },
  {
   "cell_type": "code",
   "execution_count": null,
   "metadata": {},
   "outputs": [],
   "source": [
    "from google.colab import auth\n",
    "from google.cloud import bigquery\n",
    "from google.colab import data_table\n",
    "The primary focus is using Chi-Square Analysis to determine if there is a significant association between \n",
    "certain socio-demographic variables and the likelihood of individuals having asthma.\n",
    "project = 'capstone-400517' # Project ID inserted based on the query results selected to explore\n",
    "location = 'US' # Location inserted based on the query results selected to explore\n",
    "client = bigquery.Client(project=project, location=location)\n",
    "data_table.enable_dataframe_formatter()\n",
    "auth.authenticate_user()"
   ]
  },
  {
   "cell_type": "markdown",
   "metadata": {
    "id": "pj42soltXW_H"
   },
   "source": [
    "## Reference SQL syntax from the original job\n",
    "Use the ```jobs.query```\n",
    "[method](https://cloud.google.com/bigquery/docs/reference/rest/v2/jobs/query) to\n",
    "return the SQL syntax from the job. This can be copied from the output cell\n",
    "below to edit the query now or in the future. Alternatively, you can use\n",
    "[this link](https://console.cloud.google.com/bigquery?j=capstone-400517:US:bquxjob_5daa4b90_18b3f35ac57)\n",
    "back to BigQuery to edit the query within the BigQuery user interface."
   ]
  },
  {
   "cell_type": "code",
   "execution_count": null,
   "metadata": {
    "colab": {
     "base_uri": "https://localhost:8080/"
    },
    "id": "KxSqPfAeXW_K",
    "outputId": "3f9554a4-5150-4e7d-f073-41600214ea5f"
   },
   "outputs": [
    {
     "name": "stdout",
     "output_type": "stream",
     "text": [
      "SELECT * FROM `capstone-400517.capstone2.table_core`\n"
     ]
    }
   ],
   "source": [
    "# Running this code will display the query used to generate your previous job\n",
    "\n",
    "job = client.get_job('bquxjob_5daa4b90_18b3f35ac57') # Job ID inserted based on the query results selected to explore\n",
    "print(job.query)"
   ]
  },
  {
   "cell_type": "markdown",
   "metadata": {
    "id": "eY-wNOGO11ON"
   },
   "source": [
    "## Result set loaded from BigQuery job as a DataFrame\n",
    "Query results are referenced from the Job ID ran from BigQuery and the query\n",
    "does not need to be re-run to explore results. The ```to_dataframe```\n",
    "[method](https://googleapis.dev/python/bigquery/latest/generated/google.cloud.bigquery.job.QueryJob.html#google.cloud.bigquery.job.QueryJob.to_dataframe)\n",
    "downloads the results to a Pandas DataFrame by using the BigQuery Storage API.\n",
    "\n",
    "To edit query syntax, you can do so from the BigQuery SQL editor or in the\n",
    "```Optional:``` sections below."
   ]
  },
  {
   "cell_type": "code",
   "execution_count": null,
   "metadata": {
    "id": "bIw82qhuHWy0"
   },
   "outputs": [],
   "source": [
    "# Running this code will read results from your previous job\n",
    "\n",
    "job = client.get_job('bquxjob_5daa4b90_18b3f35ac57') # Job ID inserted based on the query results selected to explore\n",
    "results = job.to_dataframe()\n",
    "results.head(10)"
   ]
  },
  {
   "cell_type": "markdown",
   "metadata": {},
   "source": [
    "## Chi-Square Testing\n",
    "The primary focus is using Chi-Square Analysis to determine if there is a significant association between \n",
    "certain socio-demographic variables and the likelihood of individuals having asthma.\n",
    "\n",
    "Use the ```chi2_contingency``` from the ```scipy.stats``` to perform Chi-Square analysis. Each of the socio-demographic variables (i.e. Gender, Hospital Region, and Income Level) will be used to compare to the prevelance of Asthma. The chi-square statstics and p-values are provided for each test."
   ]
  },
  {
   "cell_type": "markdown",
   "metadata": {},
   "source": [
    "### Hospital Region and Asthma"
   ]
  },
  {
   "cell_type": "code",
   "execution_count": null,
   "metadata": {
    "colab": {
     "base_uri": "https://localhost:8080/"
    },
    "id": "fsAsHoWDZMpv",
    "outputId": "fa534ac0-5acb-4b54-99bb-bf3fba1cf8a3"
   },
   "outputs": [
    {
     "name": "stdout",
     "output_type": "stream",
     "text": [
      "HOSP_REGION       1       2        3       4\n",
      "Asthma                                      \n",
      "0            463696  645687  1116237  356591\n",
      "1             12532    9937    17305    6150\n",
      "2               379     296      628     133\n",
      "3             34082   40092    63665   19396\n"
     ]
    }
   ],
   "source": [
    "import pandas as pd\n",
    "\n",
    "contingency_table = pd.crosstab(results['Asthma'], results['HOSP_REGION'])\n",
    "print(contingency_table)"
   ]
  },
  {
   "cell_type": "code",
   "execution_count": null,
   "metadata": {
    "colab": {
     "base_uri": "https://localhost:8080/"
    },
    "id": "zowqMWFbWkzp",
    "outputId": "5ddbeaec-fb28-4ae1-8a2e-fb16d2d336ed"
   },
   "outputs": [
    {
     "name": "stdout",
     "output_type": "stream",
     "text": [
      "Chi2 value: 4275.206247305069\n",
      "P-value: 0.0\n"
     ]
    }
   ],
   "source": [
    "from scipy.stats import chi2_contingency\n",
    "\n",
    "chi2, p, _, _ = chi2_contingency(contingency_table)\n",
    "\n",
    "print(f\"Chi2 value: {chi2}\")\n",
    "print(f\"P-value: {p}\")\n"
   ]
  },
  {
   "cell_type": "markdown",
   "metadata": {},
   "source": [
    "### Gender and Asthma"
   ]
  },
  {
   "cell_type": "code",
   "execution_count": null,
   "metadata": {
    "colab": {
     "base_uri": "https://localhost:8080/"
    },
    "id": "LGhabL6ZW6Sz",
    "outputId": "42a49794-56c9-4710-8560-bdaf3bb159cf"
   },
   "outputs": [
    {
     "name": "stdout",
     "output_type": "stream",
     "text": [
      "FEMALE        0        1\n",
      "Asthma                  \n",
      "0       1248246  1333965\n",
      "1         27109    18815\n",
      "2           854      582\n",
      "3         75205    82030\n"
     ]
    }
   ],
   "source": [
    "import pandas as pd\n",
    "\n",
    "contingency_table = pd.crosstab(results['Asthma'], results['FEMALE'])\n",
    "print(contingency_table)"
   ]
  },
  {
   "cell_type": "code",
   "execution_count": null,
   "metadata": {
    "colab": {
     "base_uri": "https://localhost:8080/"
    },
    "id": "VZU8wHSxXCOS",
    "outputId": "312a6fd4-3f7d-4a50-dec4-95a1d33cd838"
   },
   "outputs": [
    {
     "name": "stdout",
     "output_type": "stream",
     "text": [
      "Chi2 value: 2162.5728298135064\n",
      "P-value: 0.0\n"
     ]
    }
   ],
   "source": [
    "from scipy.stats import chi2_contingency\n",
    "\n",
    "chi2, p, _, _ = chi2_contingency(contingency_table)\n",
    "\n",
    "print(f\"Chi2 value: {chi2}\")\n",
    "print(f\"P-value: {p}\")"
   ]
  },
  {
   "cell_type": "markdown",
   "metadata": {},
   "source": [
    "### Income and Asthma"
   ]
  },
  {
   "cell_type": "code",
   "execution_count": null,
   "metadata": {
    "colab": {
     "base_uri": "https://localhost:8080/"
    },
    "id": "zMgCo8CyZc9f",
    "outputId": "6b88d873-cbb7-4c01-8a1a-05efb0b7fd08"
   },
   "outputs": [
    {
     "name": "stdout",
     "output_type": "stream",
     "text": [
      "ZIPINC_QRTL       1       2       3       4    A    nan\n",
      "Asthma                                                 \n",
      "0            804022  634510  617432  499721  112  26414\n",
      "1             18787   10317    9572    6951    2    295\n",
      "2               605     334     274     208    0     15\n",
      "3             55433   38216   35208   26796    1   1581\n"
     ]
    }
   ],
   "source": [
    "import pandas as pd\n",
    "\n",
    "contingency_table = pd.crosstab(results['Asthma'], results['ZIPINC_QRTL'])\n",
    "print(contingency_table)"
   ]
  },
  {
   "cell_type": "code",
   "execution_count": null,
   "metadata": {
    "colab": {
     "base_uri": "https://localhost:8080/"
    },
    "id": "gAFQW_81Zvjs",
    "outputId": "ed90e9d6-cfbb-46f8-bb55-142d30c9ffba"
   },
   "outputs": [
    {
     "name": "stdout",
     "output_type": "stream",
     "text": [
      "Chi2 value: 3454.5200195700445\n",
      "P-value: 0.0\n"
     ]
    }
   ],
   "source": [
    "chi2, p, _, _ = chi2_contingency(contingency_table)\n",
    "\n",
    "print(f\"Chi2 value: {chi2}\")\n",
    "print(f\"P-value: {p}\")"
   ]
  }
 ],
 "metadata": {
  "colab": {
   "cell_execution_strategy": "setup",
   "provenance": []
  },
  "kernelspec": {
   "display_name": "Python 3 (ipykernel)",
   "language": "python",
   "name": "python3"
  },
  "language_info": {
   "codemirror_mode": {
    "name": "ipython",
    "version": 3
   },
   "file_extension": ".py",
   "mimetype": "text/x-python",
   "name": "python",
   "nbconvert_exporter": "python",
   "pygments_lexer": "ipython3",
   "version": "3.9.13"
  }
 },
 "nbformat": 4,
 "nbformat_minor": 1
}
