{
 "cells": [
  {
   "cell_type": "markdown",
   "id": "17de2ed6",
   "metadata": {},
   "source": [
    "# Hypothesis Testing and Conclusion"
   ]
  },
  {
   "cell_type": "code",
   "execution_count": null,
   "id": "ae0e13e2",
   "metadata": {},
   "outputs": [],
   "source": [
    "import pandas as pd"
   ]
  },
  {
   "cell_type": "code",
   "execution_count": null,
   "id": "5d73f949",
   "metadata": {},
   "outputs": [],
   "source": [
    "hospital_cluster_data =  pd.read_csv(\"C:/Users/Lenovo/OneDrive - Drexel University/Fall 2023/BSAN-710/Capstone Project/Production (Codes and EDA)/Dataset/Data Cleaning/Merged/HCUP_Clustering.csv\")\n",
    "hospital_cluster_data.head()"
   ]
  },
  {
   "cell_type": "markdown",
   "id": "86ce61c1",
   "metadata": {},
   "source": [
    "## Hypothesis 1: A disparity in gender concerning the severity of the diagnosis of type 1 diabetes."
   ]
  },
  {
   "cell_type": "markdown",
   "id": "8d7777c8",
   "metadata": {},
   "source": [
    "####  create the contingency tables for each relationship, performed the chi-square test to determine the significance of associations, and provided the interpretations based on the p-values \n"
   ]
  },
  {
   "cell_type": "code",
   "execution_count": null,
   "id": "301c6448",
   "metadata": {
    "scrolled": false
   },
   "outputs": [],
   "source": [
    "import scipy.stats as stats\n",
    "\n",
    "# Create a contingency table for GENDER vs ALL_PATIENT_SEVERITY\n",
    "contingency_table_gender_sev = pd.crosstab(hospital_cluster_data['GENDER'], hospital_cluster_data['ALL_PATIENT_SEVERITY'])\n",
    "print(\"Contingency Table for Gender and Severity:\")\n",
    "print(contingency_table_gender_sev)\n",
    "\n",
    "# Conduct the chi-square test\n",
    "chi2, p, df_1, _ = stats.chi2_contingency(contingency_table_gender_sev)\n",
    "print(f\"\\nHypothesis 1 chi-square: {chi2}, p-value: {format(p,'.10f')},  degrees of freedom: {df_1}\\n\")\n",
    "print(\"-\" * 50)\n",
    "\n",
    "# Interpret the result gender vs severity\n",
    "alpha = 0.05\n",
    "if p < alpha:\n",
    "    print(\"Reject the null hypothesis: There is a significant relationship between gender and severity.\")\n",
    "else:\n",
    "    print(\"Fail to reject the null hypothesis: There is no significant relationship between gender and severity.\")\n",
    "\n",
    "#----------------------------------------------------------------------------------------------------------------\n",
    "\n",
    "# Create a contingency table for GENDER vs TYPE1_DIABETES_CODES\n",
    "contingency_table_gender_dia = pd.crosstab(hospital_cluster_data['GENDER'], hospital_cluster_data['TYPE1_DIABETES_CODES'])\n",
    "print(\"\\nContingency Table for Gender and Type 1 Diabetes Codes:\")\n",
    "print(contingency_table_gender_dia)\n",
    "\n",
    "# Conduct the chi-square test\n",
    "chi2_gender, p_gender, df_2, _ = stats.chi2_contingency(contingency_table_gender_dia)\n",
    "print(f\"\\nChi-square for Gender vs. Type 1 Diabetes Codes: {chi2_gender}, p-value: {format(p_gender,'.10f')}, degrees of freedom: {df_2}\\n\")\n",
    "print(\"-\" * 50)\n",
    "\n",
    "# Interpret the result for gender vs type 1 diabetes \n",
    "alpha = 0.05\n",
    "if p_gender < alpha:\n",
    "    print(\"Reject the null hypothesis: There is a significant relationship between gender and Type 1 diabetes codes.\")\n",
    "else:\n",
    "    print(\"Fail to reject the null hypothesis: There is no significant relationship between gender and Type 1 diabetes codes.\")\n",
    "print(\"=\" * 50)\n",
    "\n",
    "#----------------------------------------------------------------------------------------------------------------\n"
   ]
  },
  {
   "cell_type": "code",
   "execution_count": null,
   "id": "74a3cbe0",
   "metadata": {},
   "outputs": [],
   "source": [
    "print(\"\\nConclusion:\")\n",
    "\n",
    "print(\"These findings support Hypothesis 1, gender and severity have correlations with Type 1 diabetes.\")"
   ]
  },
  {
   "cell_type": "markdown",
   "id": "8ec100a7",
   "metadata": {},
   "source": [
    "## Hypothesis 2: Factors such as the regions of hospitals and ethnicity are found to have a correlation with Type 1 diabetes within the group."
   ]
  },
  {
   "cell_type": "code",
   "execution_count": null,
   "id": "e1b18c72",
   "metadata": {},
   "outputs": [],
   "source": [
    "# Create a contingency table for HOSPITAL_REGION vs Ethnicity\n",
    "contingency_table_hosp_race = pd.crosstab(hospital_cluster_data['HOSPITAL_REGION'], hospital_cluster_data['RACE_DESC'])\n",
    "print(\"\\nContingency Table for Hospital Region vs. Ethnicity:\")\n",
    "print(contingency_table_hosp_race)\n",
    "\n",
    "# Conduct the chi-square test\n",
    "chi2, p, df_3, _ = stats.chi2_contingency(contingency_table_hosp_race)\n",
    "print(f\"\\nChi-square for Hospital Region vs. Ethnicity: {chi2}, p-value: {format(p,'.10f')}, degrees of freedom: {df_3}\\n\")\n",
    "print(\"-\" * 50)\n",
    "\n",
    "# Interpret the result for hospital region\n",
    "alpha = 0.05\n",
    "if p < alpha:\n",
    "    print(\"Reject the null hypothesis: There is a significant relationship between hospital region and ethnicity.\")\n",
    "else:\n",
    "    print(\"Fail to reject the null hypothesis: There is no significant relationship between hospital region and Ethnicity.\")\n",
    "    \n",
    "print(\"=\" * 50)\n",
    "\n",
    "#----------------------------------------------------------------------------------------------------------------\n",
    "# Create a contingency table for RACE_DESC vs TYPE1_DIABETES_CODES\n",
    "contingency_table_race_dia = pd.crosstab(hospital_cluster_data['RACE_DESC'], hospital_cluster_data['TYPE1_DIABETES_CODES'])\n",
    "print(\"\\nContingency Table for Ethnicity vs. Type 1 Diabetes Codes:\")\n",
    "print(contingency_table_race_dia)\n",
    "\n",
    "# Conduct the chi-square test\n",
    "chi2_race, p_race, df_4, _ = stats.chi2_contingency(contingency_table_race_dia)\n",
    "print(f\"\\nChi-square for Ethnicity vs. Type 1 Diabetes Codes: {chi2_race}, p-value: {format(p_race,'.10f')}, degrees of freedom: {df_4}\\n\")\n",
    "print(\"-\" * 50)\n",
    "\n",
    "# Interpret the result for ethnicity\n",
    "if p_race < alpha:\n",
    "    print(\"Reject the null hypothesis: There is a significant relationship between ethnicity and Type 1 diabetes codes.\")\n",
    "else:\n",
    "    print(\"Fail to reject the null hypothesis: There is no significant relationship between ethnicity and Type 1 diabetes codes.\")\n"
   ]
  },
  {
   "cell_type": "code",
   "execution_count": null,
   "id": "5d900a2d",
   "metadata": {},
   "outputs": [],
   "source": [
    "print(\"\\nConclusion:\")\n",
    "\n",
    "print(\"These findings support Hypothesis 2, hospital regions and ethnicity have correlations with Type 1 diabetes within the group.\")"
   ]
  },
  {
   "cell_type": "markdown",
   "id": "29efe98f",
   "metadata": {},
   "source": [
    "## Hypothesis 3:  Distribution of the length of a patient's stay in the hospital and severity of diabetes diagnoses among different age groups."
   ]
  },
  {
   "cell_type": "code",
   "execution_count": null,
   "id": "6bcce98f",
   "metadata": {},
   "outputs": [],
   "source": [
    "# Define the bins and their labels\n",
    "bins = [-1, 0, 7, 14, 30, float('inf')] # the -1 ensures that 0 is included in the first bin\n",
    "labels = ['0 days', '1-7 days', '8-14 days', '15-30 days', '31+ days']\n",
    "\n",
    "\n",
    "# Create a new column for the binned LOS\n",
    "hospital_cluster_data['LOS_Binned'] = pd.cut(hospital_cluster_data['LOS'], bins=bins, labels=labels)\n",
    "\n",
    "# Create a contingency table for the binned LOS vs AGE_GROUP\n",
    "contingency_table_los_age = pd.crosstab(hospital_cluster_data['LOS_Binned'], hospital_cluster_data['AGE_GROUP'])\n",
    "print(\"\\nContingency Table for Length of Stay vs. Age Group:\")\n",
    "print(contingency_table_los_age)\n",
    "\n",
    "# Conduct the chi-square test\n",
    "chi2, p, df_5, _ = stats.chi2_contingency(contingency_table_los_age)\n",
    "print(f\"\\nChi-square for Length of stay vs. Age Group: {chi2}, p-value: {format(p,'.10f')}, degrees of freedom: {df_5}\\n\")\n",
    "print(\"-\" * 50)\n",
    "\n",
    "# Interpret the result for LOS\n",
    "alpha = 0.05\n",
    "if p < alpha:\n",
    "    print(\"Reject the null hypothesis: There is a significant relationship between length of stay and patient age group.\")\n",
    "else:\n",
    "    print(\"Fail to reject the null hypothesis: There is no significant relationship between length of stay and patient age group.\")\n",
    "    \n",
    "print(\"=\" * 50)\n",
    "\n",
    "#----------------------------------------------------------------------------------------------------------------\n",
    "\n",
    "# Create a contingency table for Los vs severity\n",
    "contingency_table_los_sev = pd.crosstab(hospital_cluster_data['LOS_Binned'], hospital_cluster_data['ALL_PATIENT_SEVERITY'])\n",
    "print(\"\\nContingency Table for Lenght of stay vs. Severity:\")\n",
    "print(contingency_table_los_sev)\n",
    "\n",
    "# Conduct the chi-square test\n",
    "chi2_los, p_los, df_6, _ = stats.chi2_contingency(contingency_table_los_sev)\n",
    "print(f\"\\nChi-square for Lenght of stay vs. Severity: {chi2_los}, p-value: {format(p_los,'.10f')}, degrees of freedom: {df_6}\\n\")\n",
    "print(\"-\" * 50)\n",
    "\n",
    "# Interpret the result for Los and severity\n",
    "if p_los < alpha:\n",
    "    print(\"Reject the null hypothesis: There is a significant relationship between lenght of stay and severity.\")\n",
    "else:\n",
    "    print(\"Fail to reject the null hypothesis: There is no significant relationship between lenght of stay and severity.\")\n",
    "\n",
    "#---------------------------------------------------------------------------------------------------------------\n",
    "\n",
    "# Create a contingency table for Age group vs severity\n",
    "contingency_table_age_sev = pd.crosstab(hospital_cluster_data['AGE_GROUP'], hospital_cluster_data['ALL_PATIENT_SEVERITY'])\n",
    "print(\"\\nContingency Table for Age Group vs. Severity:\")\n",
    "print(contingency_table_age_sev)\n",
    "\n",
    "# Conduct the chi-square test\n",
    "chi2_ag, p_ag, df_7, _ = stats.chi2_contingency(contingency_table_age_sev)\n",
    "print(f\"\\nChi-square for Lenght of stay vs. Severity: {chi2_ag}, p-value: {format(p_ag,'.10f')}, degrees of freedom: {df_7}\\n\")\n",
    "print(\"-\" * 50)\n",
    "\n",
    "# Interpret the result for age group and severity\n",
    "if p_ag < alpha:\n",
    "    print(\"Reject the null hypothesis: There is a significant relationship between age group and severity.\")\n",
    "else:\n",
    "    print(\"Fail to reject the null hypothesis: There is no significant relationship between age group and severity.\")\n",
    "    "
   ]
  }
 ],
 "metadata": {
  "kernelspec": {
   "display_name": "Python 3 (ipykernel)",
   "language": "python",
   "name": "python3"
  },
  "language_info": {
   "codemirror_mode": {
    "name": "ipython",
    "version": 3
   },
   "file_extension": ".py",
   "mimetype": "text/x-python",
   "name": "python",
   "nbconvert_exporter": "python",
   "pygments_lexer": "ipython3",
   "version": "3.9.13"
  }
 },
 "nbformat": 4,
 "nbformat_minor": 5
}
