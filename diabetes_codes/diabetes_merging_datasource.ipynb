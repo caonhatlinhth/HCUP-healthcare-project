{
 "cells": [
  {
   "cell_type": "markdown",
   "id": "fc6188dc",
   "metadata": {},
   "source": [
    "# Diabetes\n",
    "\n",
    "---\n",
    "\n",
    "## Initial Setup for the Framework in Merging Datasets"
   ]
  },
  {
   "cell_type": "code",
   "execution_count": null,
   "id": "773d565b",
   "metadata": {},
   "outputs": [],
   "source": [
    "import pandas as pd\n",
    "import dask.dataframe as dd\n",
    "import os\n",
    "\n",
    "# File paths\n",
    "hospital_file = \"C:/Users/Lenovo/OneDrive - Drexel University/Fall 2023/BSAN-710/Capstone Project/Production (Codes and EDA)/Dataset/Data Cleaning/Transformed/KID_2019_Hospital.csv\"\n",
    "core_file = \"C:/Users/Lenovo/OneDrive - Drexel University/Fall 2023/BSAN-710/Capstone Project/Production (Codes and EDA)/Dataset/Data Cleaning/Transformed/KID_2019_Core.csv\"\n",
    "severity_file = \"C:/Users/Lenovo/OneDrive - Drexel University/Fall 2023/BSAN-710/Capstone Project/Production (Codes and EDA)/Dataset/Data Cleaning/Transformed/KID_2019_Severity.csv\"\n",
    "merged_severity_output_file = \"C:/Users/Lenovo/OneDrive - Drexel University/Fall 2023/BSAN-710/Capstone Project/Production (Codes and EDA)/Dataset/Data Cleaning/Merged/Hospital_Severity.csv\"\n",
    "merged_core_output_file = \"C:/Users/Lenovo/OneDrive - Drexel University/Fall 2023/BSAN-710/Capstone Project/Production (Codes and EDA)/Dataset/Data Cleaning/Merged/Hospital_Core.csv\"\n"
   ]
  },
  {
   "cell_type": "markdown",
   "id": "f3fdc788",
   "metadata": {},
   "source": [
    "### Define dictionary"
   ]
  },
  {
   "cell_type": "code",
   "execution_count": 2,
   "id": "cc58a1f4",
   "metadata": {},
   "outputs": [],
   "source": [
    "# Define the dtype dictionary\n",
    "dtype_dict = {\n",
    "     'AGE_NEONATE': 'str', 'AMONTH': 'str', 'ELECTIVE': 'str', 'LOS': 'str', 'PAY1': 'str', 'PRDAY10': 'str',\n",
    " 'PRDAY11': 'str','PRDAY8': 'str', 'PRDAY9': 'str','RACE': 'str', 'TOTCHG': 'str', 'ZIPINC_QRTL': 'str',\n",
    " 'DQTR': 'str', 'PRDAY12':'str', 'PRDAY13':'str', 'PRDAY14':'str', 'PRDAY15':'str', 'PRDAY16':'str', 'PRDAY17':'str',\n",
    " 'PRDAY18':'str', 'PRDAY19':'str', 'PRDAY20':'str', 'PRDAY21':'str', 'PRDAY22':'str', 'PRDAY23':'str',\n",
    " 'PRDAY24':'str', 'PRDAY25':'str', 'PRDAY2':'str', 'PRDAY3':'str', 'PRDAY4':'str', 'PRDAY5':'str',\n",
    " 'PRDAY6':'str', 'TRAN_IN':'str', 'TRAN_OUT':'str', 'FEMALE':'str',  'DISPUNIFORM': 'str', 'DIED':'str'\n",
    "}"
   ]
  },
  {
   "cell_type": "markdown",
   "id": "5d9de4e3",
   "metadata": {},
   "source": [
    "### Read data"
   ]
  },
  {
   "cell_type": "code",
   "execution_count": 3,
   "id": "2b30a593",
   "metadata": {},
   "outputs": [],
   "source": [
    "# Read datasets\n",
    "hospital_df = dd.read_csv(hospital_file)\n",
    "core_df = dd.read_csv(core_file, dtype=dtype_dict)\n",
    "severity_df = dd.read_csv(severity_file)"
   ]
  },
  {
   "cell_type": "markdown",
   "id": "4e90a02f",
   "metadata": {},
   "source": [
    "### Merging Hospital and Core"
   ]
  },
  {
   "cell_type": "code",
   "execution_count": 4,
   "id": "51030105",
   "metadata": {},
   "outputs": [],
   "source": [
    "merged_core_df = hospital_df.merge(core_df, on='HOSP_KID', how='left')\n",
    "\n",
    "# Check if the file exists\n",
    "if not os.path.exists(merged_core_output_file):\n",
    "    # If the file does not exist, export the final merged dataframe to a CSV file\n",
    "    merged_core_df.compute().to_csv(merged_core_output_file, index=False)\n"
   ]
  },
  {
   "cell_type": "markdown",
   "id": "a9a78807",
   "metadata": {},
   "source": [
    "### Merging Hospital and Severity"
   ]
  },
  {
   "cell_type": "code",
   "execution_count": 5,
   "id": "cbcd4122",
   "metadata": {},
   "outputs": [],
   "source": [
    "# Merge the dataframes Hospital and Severity\n",
    "merged_severity_df = hospital_df.merge(severity_df, on='HOSP_KID', how='left')\n",
    "\n",
    "# Check if the file exists\n",
    "if not os.path.exists(merged_severity_output_file):\n",
    "    # If the file does not exist, export the final merged dataframe to a CSV file\n",
    "    merged_severity_df.compute().to_csv(merged_severity_output_file, index=False)\n",
    "    "
   ]
  }
 ],
 "metadata": {
  "kernelspec": {
   "display_name": "Python 3 (ipykernel)",
   "language": "python",
   "name": "python3"
  },
  "language_info": {
   "codemirror_mode": {
    "name": "ipython",
    "version": 3
   },
   "file_extension": ".py",
   "mimetype": "text/x-python",
   "name": "python",
   "nbconvert_exporter": "python",
   "pygments_lexer": "ipython3",
   "version": "3.9.13"
  }
 },
 "nbformat": 4,
 "nbformat_minor": 5
}
