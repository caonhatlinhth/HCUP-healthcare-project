{
 "cells": [
  {
   "cell_type": "markdown",
   "id": "3704dd72",
   "metadata": {},
   "source": [
    "# Clustering Analysis"
   ]
  },
  {
   "cell_type": "code",
   "execution_count": null,
   "id": "14dec623",
   "metadata": {},
   "outputs": [],
   "source": [
    "import pandas as pd\n",
    "import dask.dataframe as dd\n",
    "import numpy as np\n",
    "import matplotlib.pyplot as plt\n",
    "import seaborn as sns"
   ]
  },
  {
   "cell_type": "markdown",
   "id": "d1897c6f",
   "metadata": {},
   "source": [
    "## Load csv file"
   ]
  },
  {
   "cell_type": "code",
   "execution_count": null,
   "id": "0b66f0a0",
   "metadata": {},
   "outputs": [],
   "source": [
    "hospital_core_file = \"C:/Users/Lenovo/OneDrive - Drexel University/Fall 2023/BSAN-710/Capstone Project/Production (Codes and EDA)/Dataset/Data Cleaning/Merged/Hospital_Core.csv\"\n",
    "hospital_severity_file = \"C:/Users/Lenovo/OneDrive - Drexel University/Fall 2023/BSAN-710/Capstone Project/Production (Codes and EDA)/Dataset/Data Cleaning/Transformed/KID_2019_Severity.csv\""
   ]
  },
  {
   "cell_type": "markdown",
   "id": "f5c67dc5",
   "metadata": {},
   "source": [
    "## Define dictionary"
   ]
  },
  {
   "cell_type": "code",
   "execution_count": null,
   "id": "f986aaaf",
   "metadata": {},
   "outputs": [],
   "source": [
    "# Define the dtype dictionary\n",
    "dtype_dict = {\n",
    "     'AGE_NEONATE': 'str', 'AMONTH': 'str', 'ELECTIVE': 'str', 'LOS': 'str', 'PAY1': 'str', 'PRDAY10': 'str',\n",
    " 'PRDAY11': 'str','PRDAY8': 'str', 'PRDAY9': 'str','RACE': 'str', 'TOTCHG': 'str', 'ZIPINC_QRTL': 'str',\n",
    " 'DQTR': 'str', 'PRDAY12':'str', 'PRDAY13':'str', 'PRDAY14':'str', 'PRDAY15':'str', 'PRDAY16':'str', 'PRDAY17':'str',\n",
    " 'PRDAY18':'str', 'PRDAY19':'str', 'PRDAY20':'str', 'PRDAY21':'str', 'PRDAY22':'str', 'PRDAY23':'str',\n",
    " 'PRDAY24':'str', 'PRDAY25':'str', 'PRDAY2':'str', 'PRDAY3':'str', 'PRDAY4':'str', 'PRDAY5':'str',\n",
    " 'PRDAY6':'str', 'TRAN_IN':'str', 'TRAN_OUT':'str', 'FEMALE':'object',  'DISPUNIFORM': 'str', 'DIED':'str'\n",
    "}\n"
   ]
  },
  {
   "cell_type": "markdown",
   "id": "dd22b3d9",
   "metadata": {},
   "source": [
    "## Read dataset and filter only type 1 diabetes codes tranpose into one columns"
   ]
  },
  {
   "cell_type": "code",
   "execution_count": null,
   "id": "94deae7f",
   "metadata": {},
   "outputs": [],
   "source": [
    "# Read hospital_core dataset\n",
    "hospital_core_df = dd.read_csv(hospital_core_file, dtype=dtype_dict)\n",
    "# Read severity dataset\n",
    "hospital_severity_df = dd.read_csv(hospital_severity_file, dtype=dtype_dict)\n",
    "\n",
    "# Filter for age\n",
    "age_condition = (hospital_core_df['AGE'] >= 0) & (hospital_core_df['AGE'] <= 18)\n",
    "\n",
    "# Pre-existing type 1 diabetes diagnosis codes \n",
    "type1_preexist = ['O24011', 'O24012', 'O23013', 'O24019', 'O2402', 'O2403']\n",
    "\n",
    "# Vectorized condition for both type1_preexist and 'E10' for columns I10_DX1 to I10_DX5\n",
    "dx_conditions = False\n",
    "for column in ['I10_DX1', 'I10_DX2', 'I10_DX3', 'I10_DX4', 'I10_DX5']:\n",
    "    dx_conditions |= hospital_core_df[column].isin(type1_preexist).fillna(False)\n",
    "    dx_conditions |= hospital_core_df[column].str.startswith('E10').fillna(False)\n",
    "\n",
    "# Combine age and diabetes diagnosis conditions\n",
    "combined_condition = age_condition & dx_conditions\n",
    "\n",
    "hospital_core_df = hospital_core_df[combined_condition]\n",
    "\n",
    "# Extract all diagnosis codes related to type 1 diabetes\n",
    "def extract_diagnosis_codes(row):\n",
    "    return [code for code in row if pd.notnull(code) and (code.startswith('E10') or code in type1_preexist)]\n",
    "\n",
    "hospital_core_df['TYPE1_DIABETES_CODES'] = hospital_core_df[['I10_DX1', 'I10_DX2', 'I10_DX3', 'I10_DX4', 'I10_DX5']].apply(extract_diagnosis_codes, axis=1, meta=('DIABETES_CODES', 'object'))\n",
    "\n",
    "# Transform dask dataframe to pandas dataframe\n",
    "hospital_core_df = hospital_core_df.compute()\n",
    "\n",
    "# Reset the index for a unique index\n",
    "hospital_core_df.reset_index(drop=True, inplace=True)\n",
    "\n",
    "#hospital_core_df.head()\n"
   ]
  },
  {
   "cell_type": "code",
   "execution_count": null,
   "id": "1ce4e569",
   "metadata": {},
   "outputs": [],
   "source": [
    "hospital_core_df.shape[0]"
   ]
  },
  {
   "cell_type": "code",
   "execution_count": null,
   "id": "80d5c720",
   "metadata": {},
   "outputs": [],
   "source": [
    "# Join Severity to Hospital_Core by 'RECNUM'\n",
    "hospital_severity_df = hospital_severity_df.compute()\n",
    "\n",
    "hospital_core_severity_df = hospital_core_df.merge(hospital_severity_df, on='RECNUM', how='inner')\n",
    "hospital_core_severity_df.head()\n"
   ]
  },
  {
   "cell_type": "code",
   "execution_count": null,
   "id": "d0cdd33b",
   "metadata": {},
   "outputs": [],
   "source": [
    "hospital_core_severity_df.info()"
   ]
  },
  {
   "cell_type": "code",
   "execution_count": null,
   "id": "37770992",
   "metadata": {},
   "outputs": [],
   "source": [
    "# Checking Null values\n",
    "hospital_core_severity_df.isnull().sum()*100/hospital_core_severity_df.shape[0]"
   ]
  },
  {
   "cell_type": "code",
   "execution_count": null,
   "id": "4ceb8776",
   "metadata": {},
   "outputs": [],
   "source": [
    "def categorize_age(age):\n",
    "    if age < 1:\n",
    "        return \"Infant\"\n",
    "    elif 1 <= age <= 13:\n",
    "        return \"Children\"\n",
    "    else:\n",
    "        return \"Adolescents\"\n",
    "\n",
    "# Categorization function 'AGE_GROUP'\n",
    "hospital_core_severity_df['AGE_GROUP'] = hospital_core_severity_df['AGE'].apply(categorize_age)\n",
    "hospital_core_severity_df['TYPE1_DIABETES_CODES'] = hospital_core_severity_df['TYPE1_DIABETES_CODES'].apply(lambda x: x[0] if isinstance(x, list) and len(x) > 0 else None)\n",
    "\n",
    "\n",
    "hospital_core_severity_df  = hospital_core_severity_df.drop('AGE',axis = 1)"
   ]
  },
  {
   "cell_type": "code",
   "execution_count": null,
   "id": "95f5f5da",
   "metadata": {},
   "outputs": [],
   "source": [
    "select_diagnosis_columns =  ['AGE_GROUP', 'GENDER', 'HOSPITAL_REGION', 'LOS','ALL_PATIENT_SEVERITY', 'RACE_DESC','TYPE1_DIABETES_CODES']  # selective diagnosis columns.\n",
    "\n",
    "hospital_core_severity_df = hospital_core_severity_df[select_diagnosis_columns]\n",
    "hospital_core_severity_df.head()"
   ]
  },
  {
   "cell_type": "code",
   "execution_count": null,
   "id": "b583693c",
   "metadata": {},
   "outputs": [],
   "source": [
    "print(\"Total number of records for clustering: \" + str(hospital_core_severity_df.shape))"
   ]
  },
  {
   "cell_type": "markdown",
   "id": "960f6c6c",
   "metadata": {},
   "source": [
    "### Copy Data"
   ]
  },
  {
   "cell_type": "code",
   "execution_count": null,
   "id": "f3fe8bbd",
   "metadata": {},
   "outputs": [],
   "source": [
    "# Keep a copy of data\n",
    "hospital_core_severity_df_copy = hospital_core_severity_df.copy()"
   ]
  },
  {
   "cell_type": "code",
   "execution_count": null,
   "id": "9403f4ed",
   "metadata": {},
   "outputs": [],
   "source": [
    "hospital_core_severity_df.head()"
   ]
  },
  {
   "cell_type": "markdown",
   "id": "33a94cd9",
   "metadata": {},
   "source": [
    "## Find Optimal k by Elbow Method"
   ]
  },
  {
   "cell_type": "code",
   "execution_count": null,
   "id": "53dadb34",
   "metadata": {
    "scrolled": false
   },
   "outputs": [],
   "source": [
    "from kmodes.kmodes import KModes\n",
    "import matplotlib.pyplot as plt\n",
    "\n",
    "np.random.seed(42)\n",
    "cost = []\n",
    "for num_clusters in list(range(1,8)):\n",
    "    kmode = KModes(n_clusters=num_clusters, init =\"Cao\", n_init = 5, verbose=0)\n",
    "    kmode.fit_predict(hospital_core_severity_df)\n",
    "    cost.append(kmode.cost_)\n",
    "    \n",
    "y = np.array([i for i in range(1,8,1)])\n",
    "\n",
    "plt.figure(figsize=(10,6))\n",
    "#plt.plot(y,cost)\n",
    "plt.plot(y, cost, marker='o')\n",
    "plt.xlabel('Number of Clusters')\n",
    "plt.ylabel('Cost')\n",
    "plt.title('Elbow Method For Optimal k')\n",
    "plt.grid(False)\n",
    "plt.show()\n",
    "\n"
   ]
  },
  {
   "cell_type": "markdown",
   "id": "ca13db97",
   "metadata": {},
   "source": [
    "## Model fitting"
   ]
  },
  {
   "cell_type": "code",
   "execution_count": null,
   "id": "7615156d",
   "metadata": {},
   "outputs": [],
   "source": [
    "optimal_k =3 # as per elbow method"
   ]
  },
  {
   "cell_type": "code",
   "execution_count": null,
   "id": "87434969",
   "metadata": {},
   "outputs": [],
   "source": [
    "# fit the KModes clustering algorithm with 5 optimal clusters.\n",
    "np.random.seed(42)\n",
    "kmd = KModes(n_clusters=optimal_k, init = \"Huang\", n_init =5 , verbose=0)\n",
    "kmd_clusters = kmd.fit_predict(hospital_core_severity_df)"
   ]
  },
  {
   "cell_type": "code",
   "execution_count": null,
   "id": "8e4c582f",
   "metadata": {},
   "outputs": [],
   "source": [
    "# Combining predicted clusters with the original dataframe\n",
    "hospital_core_severity_df = hospital_core_severity_df_copy.reset_index()"
   ]
  },
  {
   "cell_type": "code",
   "execution_count": null,
   "id": "1098bb9c",
   "metadata": {},
   "outputs": [],
   "source": [
    "kmd_clusters_df = pd.DataFrame(kmd_clusters)\n",
    "kmd_clusters_df.columns = ['CLUSTERS']\n",
    "kmd_clusters_df = pd.concat([hospital_core_severity_df, kmd_clusters_df], axis = 1).reset_index()\n",
    "kmd_clusters_df = kmd_clusters_df.drop(['index', 'level_0'], axis = 1)\n",
    "# added row numbers\n",
    "kmd_clusters_df['ROWNUM'] = range(1, len(kmd_clusters_df) + 1)\n",
    "\n",
    "# Create a mapping from old to new cluster labels\n",
    "label_mapping = {0: 1, 1: 2, 2: 3}\n",
    "\n",
    "# start with cluster 1 instead of 0. map the old cluster labels to the new ones\n",
    "kmd_clusters_df['CLUSTERS'] = kmd_clusters_df['CLUSTERS'].map(label_mapping)"
   ]
  },
  {
   "cell_type": "markdown",
   "id": "31785841",
   "metadata": {},
   "source": [
    "### Extract the clusters dataset"
   ]
  },
  {
   "cell_type": "code",
   "execution_count": null,
   "id": "916428d0",
   "metadata": {},
   "outputs": [],
   "source": [
    "import os\n",
    "output_file = 'C:/Users/Lenovo/OneDrive - Drexel University/Fall 2023/BSAN-710/Capstone Project/Production (Codes and EDA)/Dataset/Data Cleaning/Merged/HCUP_Clustering.csv'\n",
    "\n",
    "# Check if the file exists\n",
    "if not os.path.exists(output_file):\n",
    "    # If the file does not exist, create HCUP_Clustering.csv file\n",
    "    kmd_clusters_df.to_csv(output_file, index=False)\n",
    "\n",
    "kmd_clusters_df.head()"
   ]
  },
  {
   "cell_type": "markdown",
   "id": "9a15cab5",
   "metadata": {},
   "source": [
    "## Descriptive Analysis"
   ]
  },
  {
   "cell_type": "markdown",
   "id": "63cacd83",
   "metadata": {},
   "source": [
    "### Cluster Proportion"
   ]
  },
  {
   "cell_type": "code",
   "execution_count": null,
   "id": "1b46660e",
   "metadata": {},
   "outputs": [],
   "source": [
    "\n",
    "# Calculate the proportions\n",
    "np.random.seed(42)\n",
    "cluster_size = kmd_clusters_df['CLUSTERS'].value_counts().sort_index()\n",
    "cluster_size_proportion = (cluster_size / cluster_size.sum()) * 100\n",
    "\n",
    "# Plotting\n",
    "plt.figure(figsize=(10, 6))\n",
    "cluster_size_proportion.plot(kind='bar')\n",
    "\n",
    "# Adding titles and labels\n",
    "plt.title('Cluster Size Proportions (%)')\n",
    "plt.xlabel('Cluster')\n",
    "plt.ylabel('Proportion (%)')\n",
    "plt.xticks(rotation=0)  \n",
    "\n",
    "# show percentages above the bars\n",
    "for i, value in enumerate(cluster_size_proportion):\n",
    "    plt.text(i, value + 0.5, f\"{value:.2f}%\", ha='center', va='bottom')\n",
    "\n",
    "plt.tight_layout()\n",
    "plt.show()\n"
   ]
  },
  {
   "cell_type": "code",
   "execution_count": null,
   "id": "e57111c7",
   "metadata": {},
   "outputs": [],
   "source": [
    "kmd_clusters_df.head()"
   ]
  },
  {
   "cell_type": "code",
   "execution_count": null,
   "id": "839a2de2",
   "metadata": {
    "scrolled": false
   },
   "outputs": [],
   "source": [
    "# Heatmap of AGE_GROUP \n",
    "crosstab = pd.crosstab(kmd_clusters_df['AGE_GROUP'], kmd_clusters_df['CLUSTERS'], normalize='index') * 100\n",
    "\n",
    "# matrix with percentages\n",
    "annot_array = crosstab.values\n",
    "annotations = [[f'{val:.2f}%' for val in row] for row in annot_array]\n",
    "\n",
    "plt.figure(figsize=(10, 6))\n",
    "sns.heatmap(crosstab, annot=annotations, cmap=\"YlGnBu\", fmt=\"\")\n",
    "plt.title(\"Distribution of Age Group across Clusters\")\n",
    "plt.show()\n",
    "\n",
    "# Heatmap of GENDER \n",
    "crosstab = pd.crosstab(kmd_clusters_df['GENDER'], kmd_clusters_df['CLUSTERS'], normalize='index') * 100\n",
    "\n",
    "# matrix with percentages\n",
    "annot_array = crosstab.values\n",
    "annotations = [[f'{val:.2f}%' for val in row] for row in annot_array]\n",
    "\n",
    "plt.figure(figsize=(10, 6))\n",
    "sns.heatmap(crosstab, annot=annotations, cmap=\"YlGnBu\", fmt=\"\")\n",
    "plt.title(\"Distribution of Gender across Clusters\")\n",
    "plt.show()\n",
    "\n",
    "# Heatmap of RACE_DESC \n",
    "crosstab = pd.crosstab(kmd_clusters_df['RACE_DESC'], kmd_clusters_df['CLUSTERS'], normalize='index') * 100\n",
    "\n",
    "# matrix with percentages\n",
    "annot_array = crosstab.values\n",
    "annotations = [[f'{val:.2f}%' for val in row] for row in annot_array]\n",
    "\n",
    "plt.figure(figsize=(10, 6))\n",
    "sns.heatmap(crosstab, annot=annotations, cmap=\"YlGnBu\", fmt=\"\")\n",
    "plt.title(\"Distribution of Race across Clusters\")\n",
    "plt.show()\n",
    "\n",
    "# Heatmap of RACE_DESC \n",
    "crosstab = pd.crosstab(kmd_clusters_df['HOSPITAL_REGION'], kmd_clusters_df['CLUSTERS'], normalize='index') * 100\n",
    "\n",
    "# matrix with percentages\n",
    "annot_array = crosstab.values\n",
    "annotations = [[f'{val:.2f}%' for val in row] for row in annot_array]\n",
    "\n",
    "plt.figure(figsize=(10, 6))\n",
    "sns.heatmap(crosstab, annot=annotations, cmap=\"YlGnBu\", fmt=\"\")\n",
    "plt.title(\"Distribution of Hospital Region across Clusters\")\n",
    "plt.show()\n",
    "\n",
    "# Heatmap of Severity \n",
    "crosstab = pd.crosstab(kmd_clusters_df['ALL_PATIENT_SEVERITY'], kmd_clusters_df['CLUSTERS'], normalize='index') * 100\n",
    "\n",
    "# matrix with percentages\n",
    "annot_array = crosstab.values\n",
    "annotations = [[f'{val:.2f}%' for val in row] for row in annot_array]\n",
    "\n",
    "plt.figure(figsize=(10, 6))\n",
    "sns.heatmap(crosstab, annot=annotations, cmap=\"YlGnBu\", fmt=\"\")\n",
    "plt.title(\"Distribution of Health Severity across Clusters\")\n",
    "plt.show()\n",
    "\n",
    "# Heatmap of LOS \n",
    "kmd_clusters_df['LOS'] = kmd_clusters_df['LOS'].astype(int)\n",
    "\n",
    "def categorize_los(los):\n",
    "    if los <= 5:\n",
    "        return \"Short-term\"\n",
    "    elif 5 < los <= 15:\n",
    "        return \"Mid-term\"\n",
    "    else:\n",
    "        return \"Long-term\"\n",
    "\n",
    "kmd_clusters_df['LOS_Category'] = kmd_clusters_df['LOS'].apply(categorize_los)\n",
    "\n",
    "# crosstab with the LOS_Category and Clusters\n",
    "crosstab = pd.crosstab(kmd_clusters_df['LOS_Category'], kmd_clusters_df['CLUSTERS'])\n",
    "# Convert the crosstab values to proportions\n",
    "crosstab_percentage = (crosstab / crosstab.sum().sum()) * 100\n",
    "\n",
    "# Generate annotations with percentage symbol\n",
    "annotations = crosstab_percentage.applymap(lambda x: f\"{x:.2f}%\")\n",
    "\n",
    "plt.figure(figsize=(10, 6))\n",
    "sns.heatmap(crosstab_percentage, annot=annotations, cmap=\"YlGnBu\", fmt=\"s\")\n",
    "plt.title(\"Distribution of LOS across Clusters in Percentages\")\n",
    "plt.xlabel(\"Cluster\")\n",
    "plt.ylabel(\"LOS Category\")\n",
    "plt.show()\n",
    "\n",
    "\n",
    "\n",
    "# Heatmap of TYPE1 DIABETES \n",
    "crosstab = pd.crosstab(kmd_clusters_df['TYPE1_DIABETES_CODES'], kmd_clusters_df['CLUSTERS'], normalize='index') * 100\n",
    "\n",
    "# matrix with percentages\n",
    "annot_array = crosstab.values\n",
    "annotations = [[f'{val:.2f}%' for val in row] for row in annot_array]\n",
    "\n",
    "plt.figure(figsize=(10, 6))\n",
    "sns.heatmap(crosstab, annot=annotations, cmap=\"YlGnBu\", fmt=\"\")\n",
    "plt.title(\"Distribution of Type1 Diabetes Diagnosis across Clusters\")\n",
    "plt.show()\n",
    "\n",
    "\n"
   ]
  }
 ],
 "metadata": {
  "kernelspec": {
   "display_name": "Python 3 (ipykernel)",
   "language": "python",
   "name": "python3"
  },
  "language_info": {
   "codemirror_mode": {
    "name": "ipython",
    "version": 3
   },
   "file_extension": ".py",
   "mimetype": "text/x-python",
   "name": "python",
   "nbconvert_exporter": "python",
   "pygments_lexer": "ipython3",
   "version": "3.9.13"
  }
 },
 "nbformat": 4,
 "nbformat_minor": 5
}
